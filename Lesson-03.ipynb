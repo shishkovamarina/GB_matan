__1.__ Найти предел последовательности:

### $$а)\,\,\,\,\lim_{n\to \infty} \frac{(23-2n^2)(3n^2+17)^2}{4n^6+n-1}$$

Решение:

### $$\lim_{n\to \infty} \frac{(23-2n^2)(3n^2+17)^2}{4n^6+n-1}=\Bigl(\frac{\infty}{\infty}\Bigr)=$$   

### $$=\frac{-2\cdot3^2}{4}=-\frac{9}{2}$$ 


### $$б)\,\,\,\,\lim_{n\to \infty} \frac{(97-2n)^3}{2n(3n^2+15)+8n}$$

Решение:

### $$\lim_{n\to \infty} \frac{(97-2n)^3}{2n(3n^2+15)+8n}=\Bigl(\frac{\infty}{\infty}\Bigr)=$$   

### $$=\frac{(-2)^3}{2\cdot3}=-\frac{4}{3}$$ 


### $$в)\,\,\,\,\lim_{n\to \infty} \frac{2n^3+13n(n+18)}{(27-n)(2n+19)^2}$$

Решение:

### $$\lim_{n\to \infty} \frac{2n^3+13n(n+18)}{(27-n)(2n+19)^2}=\Bigl(\frac{\infty}{\infty}\Bigr)=$$   

### $$=\frac{2}{-1\cdot2^2}=-\frac{1}{2}$$ 

### $$г)\,\,\,\,\lim_{n\to \infty} (\sqrt{n^2+1}-n)$$

Решение:

### $$\lim_{n\to \infty} (\sqrt{n^2+1}-n)=\Bigl(\infty-\infty\Bigr)=$$   

### $$=\lim_{n\to \infty} (\sqrt{n^2+1}-n)\cdot\frac{\sqrt{n^2+1}+n}{\sqrt{n^2+1}+n}=$$ 

### $$=\lim_{n\to \infty} \frac{n^2+1-n^2}{\sqrt{n^2+1}+n}=$$ 

### $$=\lim_{n\to \infty} \frac{1}{\sqrt{n^2+1}+n}=0$$ 


### $$д)\,\,\,\,\lim_{n\to \infty} \frac{(-4)^n+5\cdot7^n}{(-4)^{n-1}+7^{n+2}}$$

Решение:

### $$\lim_{n\to \infty} \frac{(-4)^n+5\cdot7^n}{(-4)^{n-1}+7^{n+2}}=\Bigl(\frac{\infty}{\infty}\Bigr)=$$   

### $$=\lim_{n\to \infty} \frac{(-4)^n+5\cdot7^n}{\Bigl(-\frac{1}{4}\Bigr)\cdot(-4)^n+49\cdot7^n}=$$ 

### $$=\lim_{n\to \infty} \frac{7^n\cdot\Bigl(\Bigl(-\frac{4}{7}\Bigr)^n+5\Bigr)}{7^n\cdot\Bigl(\Bigl(-\frac{1}{4}\Bigr)\cdot\Bigl(-\frac{4}{7}\Bigr)^n+49\Bigr)}=\frac{5}{49}$$ 

_2.__ Представьте $1$ в виде суммы трех рациональных дробей с разными знаменателями и числителем равным $1$.

Решение:

### $$1=\frac{1}{2}+\frac{1}{2}$$

### $$\frac{1}{2}=\frac{1}{2\cdot3}+\frac{1}{3}$$

### $$1=\frac{1}{2}+\frac{1}{6}+\frac{1}{3}$$

__4.__ Пользуясь критерием Коши, докажите сходимость последовательности:

### $$a_n=\frac{\sin1}{2}+\frac{\sin2}{2^2}+\frac{\sin3}{2^3}+..\frac{\sin n}{2^n}\,\,\,\,\,\Rightarrow$$

### $$\Bigl\{a_n\Bigr\}_{n=1}^\infty=\Bigl\{\frac{\sin1}{2}, \frac{\sin1}{2}+\frac{\sin2}{2^2}, ..., a_n,...\Bigr\}$$


$^*$ Какой член последовательности можно взять в качестве предела с точностью $\varepsilon=10^{-7}$?

Решение:

Напомню критерий сходимости Коши

Найдем связь $N(\varepsilon)$

### $$a_n=\frac{\sin1}{2}+\frac{\sin2}{2^2}+\frac{\sin3}{2^3}+..\frac{\sin n}{2^n}$$

### $$a_{n+k}=\frac{\sin1}{2}+\frac{\sin2}{2^2}+\frac{\sin3}{2^3}+..\frac{\sin (n+k)}{2^{n+k}}$$

### $$|a_n-a_{n+k}|=\Bigl|\frac{\sin(n+1)}{2^{n+1}}+\frac{\sin(n+2)}{2^{n+2}}+..+\frac{\sin (n+k)}{2^{n+k}}\Bigr|\leq$$

### $$\leq\frac{|\sin(n+1)|}{2^{n+1}}+\frac{|\sin(n+2)|}{2^{n+2}}+..+\frac{|\sin (n+k)|}{2^{n+k}}\leq$$

### $$\leq\frac{1}{2^{n+1}}+\frac{1}{2^{n+2}}+..+\frac{1}{2^{n+k}}=$$

### $$=\frac{1}{2^{n}}\Bigl(\frac{1}{2}+\frac{1}{2^{2}}+..+\frac{1}{2^{k}}\Bigr)=$$

### $$=\frac{1}{2^{n}}\cdot\frac{\frac{1}{2}\cdot\Bigl(1-\frac{1}{2^{k}}\Bigr)}{1-\frac{1}{2}}=$$

### $$=\frac{1}{2^{n}}\cdot\Bigl(1-\frac{1}{2^{k}}\Bigr)<\frac{1}{2^{n}}<\frac{1}{2^{N(\varepsilon)}}=\varepsilon$$

### $$N(\varepsilon)=-\log_2 \varepsilon$$ 

