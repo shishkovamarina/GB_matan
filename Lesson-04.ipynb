__1.__ Найти предел последовательности:

### $$а)\,\,\,\,\lim_{x\to 6} \frac{x^2-36}{x^2-x-30}$$

Решение

### $$\lim_{x\to 6} \frac{x^2-36}{x^2-x-30}=\Bigl(\frac{0}{0}\Bigr)=$$

### $$=\lim_{x\to 6} \frac{(x-6)(x+6)}{(x-6)(x+5)}=$$

### $$=\lim_{x\to 6} \frac{x+6}{x+5}=\frac{6+6}{6+5}=\frac{12}{11}$$

### $$б)\,\,\,\,\lim_{x\to 7} \frac{x^2-49}{x^2-13x+42}$$

Решение

### $$\lim_{x\to 7} \frac{x^2-49}{x^2-13x+42}=\Bigl(\frac{0}{0}\Bigr)=$$

### $$=\lim_{x\to 7} \frac{(x-7)(x+7)}{(x-7)(x-6)}=$$

### $$=\lim_{x\to 7} \frac{x+7}{x-6}=\frac{7+7}{7-6}=14$$

### $$г)\,\,\,\,\lim_{x\to 0} \frac{3x\,\mbox{tg}\,4x}{1-\cos4x}$$

Решение

### $$\lim_{x\to 0} \frac{3x\,\mbox{tg}\,4x}{1-\cos4x}=\Bigl(\frac{0}{0}\Bigr)=$$

### $$=\lim_{x\to 0} \frac{3x\cdot4x}{\frac{16x^2}{2}}=\frac{3\cdot4}{8}=\frac{3}{2}$$


### $$е)\,\,\,\,\lim_{x\to \infty} \Bigr(\frac{4x}{4x+3}\Bigl)^\frac{5x^2}{7x-1}$$


Решение

### $$\lim_{x\to \infty} \Bigr(\frac{4x}{4x+3}\Bigl)^\frac{5x^2}{7x-1}=(1)^\infty=$$

### $$=e^{\lim_{x\to \infty} \Bigr(\frac{4x}{4x+3}-1\Bigl)\cdot\frac{5x^2}{7x-1}}=$$

### $$=e^{\lim_{x\to \infty} \frac{-3}{4x+3}\cdot\frac{5x^2}{7x-1}}=$$

### $$=e^{\frac{-3\cdot5}{4\cdot7}}=e^{-\frac{15}{28}}$$
