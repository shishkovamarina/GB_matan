{
 "cells": [
  {
   "cell_type": "markdown",
   "metadata": {},
   "source": [
    "__1.__ Представьте в виде __несократимой__ рациональной дроби:\n",
    "\n",
    "### $$а)\\,\\,\\, 0.(216);$$\n",
    "\n",
    "### $$б)\\,\\,\\, 1.0(01).$$\n",
    "\n",
    "\n",
    "## а)\n",
    " $$a=0.(216)$$\n",
    " $$1000a=216.(216)$$\n",
    " $$1000a=216+0.(216)$$\n",
    " $$1000a=216+a$$\n",
    " $$999a=216$$\n",
    " $$a=\\frac{216}{999}=\\frac{24}{111}=\\frac{8}{37}$$\n"
   ]
  },
  {
   "cell_type": "code",
   "execution_count": 5,
   "metadata": {},
   "outputs": [
    {
     "name": "stdout",
     "output_type": "stream",
     "text": [
      "0.21621621621621623\n"
     ]
    }
   ],
   "source": [
    "print(8/37)"
   ]
  },
  {
   "cell_type": "markdown",
   "metadata": {},
   "source": [
    "## б)\n",
    " $$a=1.0(01)$$\n",
    " $$10a=10.(01)$$\n",
    " $$10a=10+0.(01)$$\n",
    " \n",
    " решим отдельно \n",
    " $$a=0.(01)$$\n",
    " $$100a=1.(01)$$\n",
    " $$100a=1+0.(01)$$\n",
    " $$100a=1+а$$\n",
    " $$99a=1$$\n",
    " $$a=\\frac{1}{99}$$\n",
    " \n",
    " применим\n",
    " $$10a=10+\\frac{1}{99}$$\n",
    " $$10a=\\frac{991}{99}$$\n",
    " $$a=\\frac{991}{990}$$"
   ]
  },
  {
   "cell_type": "code",
   "execution_count": 6,
   "metadata": {},
   "outputs": [
    {
     "name": "stdout",
     "output_type": "stream",
     "text": [
      "1.001010101010101\n",
      "0.010101010101010102\n"
     ]
    }
   ],
   "source": [
    "print(991/990)\n",
    "print(1/99)"
   ]
  },
  {
   "cell_type": "markdown",
   "metadata": {},
   "source": [
    "__3.__ Проверьте любым способ, является ли данные логические формулы тавтологией:\n",
    "\n",
    "### $$a)\\,\\,\\, (A \\vee B) \\rightarrow (B \\vee\\overline A)$$\n",
    "### $$б)\\,\\,\\, A \\rightarrow (A \\vee (\\overline B \\wedge A))$$\n",
    "\n",
    "## а)\n",
    "### $$(A\\vee B) \\rightarrow (B\\vee \\overline A)$$\n",
    "\n",
    " Решим с помощью таблицы истинности:\n",
    " \n",
    " <table>\n",
    "<thead>\n",
    "<tr><th>$A$</th><th>$B$</th><th>$A\\vee B $</th><th>$\\overline A$</th><th>$ B\\vee \\overline A$</th><th>$(A\\vee B) \\rightarrow (B\\vee \\overline A)$</th></tr>\n",
    "</thead>\n",
    "<tbody>\n",
    "    <tr><td>$0$</td><td>$0$</td><td>$0$</td><td>$1$</td><td>$1$</td><td>$1$</td></tr>\n",
    "    <tr><td>$1$</td><td>$0$</td><td>$1$</td><td>$0$</td><td>$0$</td><td>$0$</td></tr>\n",
    "    <tr><td>$0$</td><td>$1$</td><td>$1$</td><td>$1$</td><td>$1$</td><td>$1$</td></tr>\n",
    "    <tr><td>$1$</td><td>$1$</td><td>$1$</td><td>$0$</td><td>$1$</td><td>$0$</td></tr>\n",
    "</tbody>\n",
    "</table>\n",
    "\n",
    "это не тавталогия\n",
    "\n",
    "\n",
    "## б) \n",
    "### $$(A \\rightarrow (А \\vee (\\overline B\\wedge  A)$$\n",
    "\n",
    " Решим с помощью таблицы истинности:\n",
    " \n",
    " <table>\n",
    "<thead>\n",
    "<tr><th>$A$</th><th>$B$</th><th>$\\overline B$</th><th>$ \\overline B\\wedge  A$</th><th>$А \\vee (\\overline B\\wedge  A)$</th><th>$A \\rightarrow (А \\vee (\\overline B\\wedge  A)$</th></tr>\n",
    "</thead>\n",
    "<tbody>\n",
    "    <tr><td>$0$</td><td>$0$</td><td>$1$</td><td>$0$</td><td>$0$</td><td>$1$</td></tr>\n",
    "    <tr><td>$1$</td><td>$0$</td><td>$1$</td><td>$1$</td><td>$1$</td><td>$1$</td></tr>\n",
    "    <tr><td>$0$</td><td>$1$</td><td>$0$</td><td>$0$</td><td>$0$</td><td>$1$</td></tr>\n",
    "    <tr><td>$1$</td><td>$1$</td><td>$0$</td><td>$0$</td><td>$1$</td><td>$1$</td></tr>\n",
    "</tbody>\n",
    "</table>\n",
    "\n",
    "это тавталогия"
   ]
  },
  {
   "cell_type": "markdown",
   "metadata": {},
   "source": [
    "__4.__. Сформулируйте словесно высказывания:\n",
    "### $$a)\\,\\,\\, (\\overline A \\vee B) \\rightarrow \\overline C$$\n",
    "### $$б)\\,\\,\\, C \\rightarrow (A \\vee \\overline B)$$\n",
    "\n",
    "- $A:\\,\\,\\,$ сегодня светит солнце; \n",
    "- $B:\\,\\,\\,$ сегодня сыро; \n",
    "- $C:\\,\\,\\,$ я поеду на дачу.\n",
    "\n",
    "\n",
    "- a)Если сегодня не светит солнце или сегодня сыро, то я не поеду на дачу.\n",
    "- б) Если я поеду на дачу, то сегодня светит солнце или сегодня не сыро. \n"
   ]
  },
  {
   "cell_type": "markdown",
   "metadata": {},
   "source": [
    "__5.__  Пользуясь правилом построения противоположного высказывания, запишите утверждения, противоположные следующим:\n",
    "\n",
    "a) На любом курсе каждого факультета есть студенты, сдающие все экзамены на «отлично».\n",
    "\n",
    "б) В любом самолете на рейсе Вашингтон-Москва присутствует хотя бы один сотрудник силовых органов, в каждой пуговице одежды которого вмонтирован микрофон.\n",
    "\n",
    "a) На каждом курсе любого факультета есть студенты, не сдающие все экзамены на «отлично».\n",
    "б) В каждом самолете на рейсе Вашингтон-Москва отсутствуют сотрудник силовых органов, в любой пуговице одежды которого не вмонтирован микрофон.\n",
    "\n"
   ]
  },
  {
   "cell_type": "code",
   "execution_count": null,
   "metadata": {},
   "outputs": [],
   "source": []
  }
 ],
 "metadata": {
  "kernelspec": {
   "display_name": "Python 3",
   "language": "python",
   "name": "python3"
  },
  "language_info": {
   "codemirror_mode": {
    "name": "ipython",
    "version": 3
   },
   "file_extension": ".py",
   "mimetype": "text/x-python",
   "name": "python",
   "nbconvert_exporter": "python",
   "pygments_lexer": "ipython3",
   "version": "3.8.5"
  }
 },
 "nbformat": 4,
 "nbformat_minor": 4
}
