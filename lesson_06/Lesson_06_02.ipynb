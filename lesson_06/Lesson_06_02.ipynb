{
 "cells": [
  {
   "cell_type": "markdown",
   "metadata": {
    "id": "zz7SDkPIkVlM"
   },
   "source": [
    "# Урок 6"
   ]
  },
  {
   "cell_type": "code",
   "execution_count": 2,
   "metadata": {},
   "outputs": [],
   "source": [
    "from sympy import *\n",
    "init_printing()"
   ]
  },
  {
   "cell_type": "markdown",
   "metadata": {
    "id": "aU5YNMH9kVqP"
   },
   "source": [
    "## Практическое задание"
   ]
  },
  {
   "cell_type": "markdown",
   "metadata": {
    "id": "SmdURZ_OkVqQ"
   },
   "source": [
    "__1.__ Найти производную $y'_{x}$ функции:\n",
    "\n",
    "### $$\\mbox{arctg}(\\frac{y}{x})=\\ln \\sqrt{x^2+y^2}$$\n",
    "\n",
    "Решение\n",
    "__1.__ Найти производную $y'_{x}$ функции:\n",
    "\n",
    "### $$\\mbox{arctg}\\Bigr(\\frac{y}{x}\\Bigl)=\\ln \\sqrt{x^2+y^2}$$\n",
    "\n",
    "Решение\n",
    "\n",
    "### $$\\frac{1}{1+\\Bigr(\\frac{y}{x}\\Bigl)^2}\\cdot \\frac{y'\\cdot x-y\\cdot 1}{x^2} =\\frac{1}{2}\\cdot \\frac{1}{x^2+y^2} \\cdot (2x+2y\\cdot y')$$\n",
    "\n",
    "### $$\\frac{y'\\cdot x-y\\cdot 1}{x^2+y^2}=\\frac{1}{2}\\cdot \\frac{2x+2y\\cdot y'}{x^2+y^2}$$\n",
    "\n",
    "### $$2x\\cdot y'-2y=2x+2y\\cdot y'$$\n",
    "\n",
    "### $$(2x-2y)\\cdot y'=2x+2y$$\n",
    "\n",
    "### $$y'=\\frac{x+y}{x-y}$$"
   ]
  },
  {
   "cell_type": "markdown",
   "metadata": {
    "id": "cECfCSANkVqR"
   },
   "source": [
    "__2.__ Найти производную $y'_{x}$ функции:\n",
    "\n",
    "### \\begin{cases}\n",
    "   y=\\frac{t^2}{t-1}, \\\\\n",
    "   x=\\frac{t}{t^2-1} \n",
    " \\end{cases}"
   ]
  },
  {
   "cell_type": "markdown",
   "metadata": {},
   "source": [
    "Найдем производные:\n",
    " \n",
    "### \\begin{cases}\n",
    "   x'=-\\frac{t^2}{(t-1)^2}+2\\frac{t}{(t-1)}, \\\\\n",
    "   y'=-2\\frac{t^2}{(t^2-1)^2}+\\frac{1}{(t^2-1)} \n",
    " \\end{cases}\n",
    " \n",
    " Следовательно: \n",
    " ### $$\\begin{cases}\n",
    "   y'_{t}=\\frac{2t\\cdot (t-1)-t^2\\cdot1}{(t-1)^2}, \\\\\n",
    "   x_{t}=\\frac{1\\cdot(t^2-1)-t\\cdot2t}{(t^2-1)^2} \n",
    " \\end{cases}\\Rightarrow\n",
    " \\begin{cases}\n",
    "   y'_{t}=\\frac{t^2-2t}{(t-1)^2}, \\\\\n",
    "   x_{t}=\\frac{-t^2-1}{(t^2-1)^2} \n",
    " \\end{cases}\\Rightarrow\n",
    " y'_{x}=\\frac{y'_{t}}{x_{t}}=\\frac{t^2-2t}{(t-1)^2}\\cdot \\frac{(t^2-1)^2}{-t^2-1}=-\\frac{(t^2-2t)(t+1)^2}{t^2+1}$$\n",
    "\n"
   ]
  },
  {
   "cell_type": "markdown",
   "metadata": {
    "id": "DFrjdtbHkVqS"
   },
   "source": [
    "__3.__ Найти производную с помощью логарифмирования:\n",
    "\n",
    "### $$y=(x^2+2)^5\\cdot(3x-x^3)^3$$"
   ]
  },
  {
   "cell_type": "markdown",
   "metadata": {},
   "source": [
    " Решение\n",
    "$$y'=f(x)\\cdot (\\ln f(x))'$$\n",
    "\n",
    "__3.__ Найти производную с помощью логарифмирования:\n",
    "\n",
    "### $$y=(x^2+2)^5\\cdot(3x-x^3)^3$$\n",
    "\n",
    "Решение:\n",
    "\n",
    "### $$y'=f(x)\\cdot (\\ln f(x))'$$\n",
    "\n",
    "### $$y'=(x^2+2)^5\\cdot(3x-x^3)^3\\cdot\\Bigr(\\frac{5\\cdot2x}{x^2+2}+\\frac{3\\cdot(3-3x^2)}{3x-x^3}\\Bigl)$$"
   ]
  },
  {
   "cell_type": "code",
   "execution_count": 3,
   "metadata": {},
   "outputs": [
    {
     "data": {
      "image/png": "[encoded data removed]",
      "text/latex": [
       "$\\displaystyle \\left(x^{2} + 2\\right)^{5} \\left(- x^{3} + 3 x\\right)^{3}$"
      ],
      "text/plain": [
       "        5             3\n",
       "⎛ 2    ⎞  ⎛   3      ⎞ \n",
       "⎝x  + 2⎠ ⋅⎝- x  + 3⋅x⎠ "
      ]
     },
     "execution_count": 3,
     "metadata": {},
     "output_type": "execute_result"
    }
   ],
   "source": [
    "###посмотрим что получится sympy\n",
    "x=Symbol('x')\n",
    "y=((x**2+2)**5)*((3*x)-x**3)**3\n",
    "y"
   ]
  },
  {
   "cell_type": "code",
   "execution_count": 17,
   "metadata": {},
   "outputs": [
    {
     "data": {
      "image/png": "[encoded data removed]",
      "text/latex": [
       "$\\displaystyle 10 x \\left(x^{2} + 2\\right)^{4} \\left(- x^{3} + 3 x\\right)^{3} + \\left(9 - 9 x^{2}\\right) \\left(x^{2} + 2\\right)^{5} \\left(- x^{3} + 3 x\\right)^{2}$"
      ],
      "text/plain": [
       "             4             3                      5             2\n",
       "     ⎛ 2    ⎞  ⎛   3      ⎞    ⎛       2⎞ ⎛ 2    ⎞  ⎛   3      ⎞ \n",
       "10⋅x⋅⎝x  + 2⎠ ⋅⎝- x  + 3⋅x⎠  + ⎝9 - 9⋅x ⎠⋅⎝x  + 2⎠ ⋅⎝- x  + 3⋅x⎠ "
      ]
     },
     "execution_count": 17,
     "metadata": {},
     "output_type": "execute_result"
    }
   ],
   "source": [
    "diff(y,x)"
   ]
  },
  {
   "cell_type": "markdown",
   "metadata": {
    "id": "5la-eVLukVqT"
   },
   "source": [
    "__4.__ Найти производную функции с помощью логарифмирования:\n",
    "\n",
    "### $$y=x^x$$"
   ]
  },
  {
   "cell_type": "markdown",
   "metadata": {},
   "source": [
    "__4.__ Найти производную функции с помощью логарифмирования:\n",
    "\n",
    "### $$y=x^x$$\n",
    "\n",
    "Решение:\n",
    "\n",
    "### $$y'=f(x)\\cdot (\\ln f(x))'$$\n",
    "\n",
    "### $$y'=x^x\\cdot\\Bigr(x\\cdot\\ln x\\Bigl)'=x^x\\cdot\\Bigr(1\\cdot\\ln x+x\\cdot\\frac{1}{x}\\Bigl)=x^x\\cdot\\Bigr(\\ln x+1\\Bigl)$$"
   ]
  },
  {
   "cell_type": "code",
   "execution_count": 4,
   "metadata": {},
   "outputs": [
    {
     "data": {
      "image/png": "[encoded data removed]",
      "text/latex": [
       "$\\displaystyle x^{x}$"
      ],
      "text/plain": [
       " x\n",
       "x "
      ]
     },
     "execution_count": 4,
     "metadata": {},
     "output_type": "execute_result"
    }
   ],
   "source": [
    "###посмотрим что получится sympy\n",
    "x=Symbol('x')\n",
    "y=(x**x)\n",
    "y"
   ]
  },
  {
   "cell_type": "code",
   "execution_count": 19,
   "metadata": {},
   "outputs": [
    {
     "data": {
      "image/png": "[encoded data removed]",
      "text/latex": [
       "$\\displaystyle x^{x} \\left(\\log{\\left(x \\right)} + 1\\right)$"
      ],
      "text/plain": [
       " x             \n",
       "x ⋅(log(x) + 1)"
      ]
     },
     "execution_count": 19,
     "metadata": {},
     "output_type": "execute_result"
    }
   ],
   "source": [
    "diff(y,x)"
   ]
  },
  {
   "cell_type": "markdown",
   "metadata": {
    "id": "kQlell_GkVqU"
   },
   "source": [
    "__5.__ Найти производную функции с помощью логарифмирования:\n",
    "\n",
    "### $$y=\\frac{(2-x^2)^3\\cdot(x-1)^2}{(2x^3-3x)\\cdot e^x}$$\n",
    "$$y'=\\frac{(2-x^2)^3\\cdot(x-1)^2}{(2x^3-3x)\\cdot e^x}(\\frac{3\\cdot(-2x)}{2-x^2}+\\frac{2}{x-1}-\\frac{6x^2-3}{2x^3-3x}-1)$$"
   ]
  },
  {
   "cell_type": "markdown",
   "metadata": {
    "id": "UUmTSLqbwC8l"
   },
   "source": [
    "__7.__ Найти длину $𝑥$ и ширину $𝑦$ прямоугольника при заданном периметре $𝑃=144$ cм, при которых данный прямоугольник имеет наибольшую площадь $𝑆$."
   ]
  },
  {
   "cell_type": "markdown",
   "metadata": {
    "id": "Iv-T_NZAkVqZ"
   },
   "source": [
    "Первый этап. Составление математической модели.\n",
    "\n",
    "Выделим оптимизируемую величину- площадь прямоугольника. Обозначим буквой S.\n",
    "\n",
    "Объявим независимой переменной одну сторону прямоугольника, обозначим ее буквой x. Полупериметр прямоугольника - 144 см. Вторую сторону обозначим - (144−x).\n",
    "\n",
    "По условию задачи получим:\n",
    "\n",
    "S=x(72−x)=72x−x^2,x∈N\n",
    "\n",
    "  \n",
    "Второй этап. Работа с составленной моделью.\n",
    " \n",
    "На этом этапе для функции S=72x−x^2 надо найти yнаиб. Для этого нужна производная функции:\n",
    "S′=(72x−x^2)′=72−2x\n",
    "\n",
    "Приравняв производную нулю, получим:\n",
    "72−2x=0\n",
    "2x=72\n",
    "x=36\n",
    " \n",
    "По теореме:\n",
    "Теорема. Пусть функция  y=f(x) непрерывна на промежутке X и имеет внутри него единственную стационарную или критическую точку x=x0. Тогда:\n",
    "а ) если  x=x0 — точка максимума, то yнаиб=f(x0);\n",
    "б ) если x=x0 — точка минимума, то yнаим=f(x0).\n",
    "Вычислим: yнаиб=72⋅36−36^2=1296.\n",
    " \n",
    "Третий этап. Ответ на вопрос задачи.\n",
    "Итак, одна сторона прямоугольника x=36 см.\n",
    "Вычислим вторую сторону: 72−36=36 см\n",
    " \n",
    "Ответ:\n",
    "Так как, периметр прямоугольника составляет 144 см, то  прямоугольник имеет наибольшую площадь S=1296см2, если его стороны 36 см и  36 см."
   ]
  },
  {
   "cell_type": "code",
   "execution_count": null,
   "metadata": {},
   "outputs": [],
   "source": []
  }
 ],
 "metadata": {
  "colab": {
   "collapsed_sections": [],
   "name": "Lesson_6.ipynb",
   "provenance": []
  },
  "kernelspec": {
   "display_name": "Python 3",
   "language": "python",
   "name": "python3"
  },
  "language_info": {
   "codemirror_mode": {
    "name": "ipython",
    "version": 3
   },
   "file_extension": ".py",
   "mimetype": "text/x-python",
   "name": "python",
   "nbconvert_exporter": "python",
   "pygments_lexer": "ipython3",
   "version": "3.8.5"
  }
 },
 "nbformat": 4,
 "nbformat_minor": 1
}
