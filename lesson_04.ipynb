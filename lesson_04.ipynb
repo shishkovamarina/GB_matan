{
 "cells": [
  {
   "cell_type": "markdown",
   "metadata": {},
   "source": [
    "__1.__ Найти предел последовательности:\n",
    "\n",
    "### $$а)\\,\\,\\,\\,\\lim_{x\\to 6} \\frac{x^2-36}{x^2-x-30}$$\n",
    "\n",
    "Решение\n",
    "\n",
    "### $$\\lim_{x\\to 6} \\frac{x^2-36}{x^2-x-30}=\\Bigl(\\frac{0}{0}\\Bigr)=$$\n",
    "\n",
    "### $$=\\lim_{x\\to 6} \\frac{(x-6)(x+6)}{(x-6)(x+5)}=$$\n",
    "\n",
    "### $$=\\lim_{x\\to 6} \\frac{x+6}{x+5}=\\frac{6+6}{6+5}=\\frac{12}{11}$$\n",
    "\n",
    "### $$б)\\,\\,\\,\\,\\lim_{x\\to 7} \\frac{x^2-49}{x^2-13x+42}$$\n",
    "\n",
    "Решение\n",
    "\n",
    "### $$\\lim_{x\\to 7} \\frac{x^2-49}{x^2-13x+42}=\\Bigl(\\frac{0}{0}\\Bigr)=$$\n",
    "\n",
    "### $$=\\lim_{x\\to 7} \\frac{(x-7)(x+7)}{(x-7)(x-6)}=$$\n",
    "\n",
    "### $$=\\lim_{x\\to 7} \\frac{x+7}{x-6}=\\frac{7+7}{7-6}=14$$\n",
    "\n",
    "### $$г)\\,\\,\\,\\,\\lim_{x\\to 0} \\frac{3x\\,\\mbox{tg}\\,4x}{1-\\cos4x}$$\n",
    "\n",
    "Решение\n",
    "\n",
    "### $$\\lim_{x\\to 0} \\frac{3x\\,\\mbox{tg}\\,4x}{1-\\cos4x}=\\Bigl(\\frac{0}{0}\\Bigr)=$$\n",
    "\n",
    "### $$=\\lim_{x\\to 0} \\frac{3x\\cdot4x}{\\frac{16x^2}{2}}=\\frac{3\\cdot4}{8}=\\frac{3}{2}$$\n",
    "\n",
    "\n",
    "### $$е)\\,\\,\\,\\,\\lim_{x\\to \\infty} \\Bigr(\\frac{4x}{4x+3}\\Bigl)^\\frac{5x^2}{7x-1}$$\n",
    "\n",
    "\n",
    "Решение\n",
    "\n",
    "### $$\\lim_{x\\to \\infty} \\Bigr(\\frac{4x}{4x+3}\\Bigl)^\\frac{5x^2}{7x-1}=(1)^\\infty=$$\n",
    "\n",
    "### $$=e^{\\lim_{x\\to \\infty} \\Bigr(\\frac{4x}{4x+3}-1\\Bigl)\\cdot\\frac{5x^2}{7x-1}}=$$\n",
    "\n",
    "### $$=e^{\\lim_{x\\to \\infty} \\frac{-3}{4x+3}\\cdot\\frac{5x^2}{7x-1}}=$$\n",
    "\n",
    "### $$=e^{\\frac{-3\\cdot5}{4\\cdot7}}=e^{-\\frac{15}{28}}$$"
   ]
  },
  {
   "cell_type": "code",
   "execution_count": null,
   "metadata": {},
   "outputs": [],
   "source": []
  }
 ],
 "metadata": {
  "kernelspec": {
   "display_name": "Python 3",
   "language": "python",
   "name": "python3"
  },
  "language_info": {
   "codemirror_mode": {
    "name": "ipython",
    "version": 3
   },
   "file_extension": ".py",
   "mimetype": "text/x-python",
   "name": "python",
   "nbconvert_exporter": "python",
   "pygments_lexer": "ipython3",
   "version": "3.8.5"
  }
 },
 "nbformat": 4,
 "nbformat_minor": 4
}
