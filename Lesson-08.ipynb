__1.__ Исследовать на условный экстремум функцию

### $$U=3-8x+6y,$$

если

### $$x^2+y^2=36$$

Решение:
функция Лагранжа:

### $$L(x,y,\lambda)=3-8x+6y +\lambda \cdot (x^2+y^2-36)$$

### $$\begin{cases}
   L'_{x}=-8+\lambda \cdot2x=0, \\
   L'_{y}=6+\lambda \cdot2y=0, \\
   L'_{\lambda}=x^2+y^2-36=0
 \end{cases}$$
 
### $$\begin{cases}
   x=\frac{4}{\lambda}, \\
   y=-\frac{3}{\lambda}, \\
   \Bigr(\frac{4}{\lambda}\Bigl)^2+\Bigr(-\frac{3}{\lambda}\Bigl)^2=36
 \end{cases}\Rightarrow 
 \begin{cases}
   x=\frac{4}{\lambda}, \\
   y=-\frac{3}{\lambda}, \\
   \frac{25}{\lambda^2}=36
 \end{cases}
 \Rightarrow 
 \begin{cases}
   x=\frac{4}{\lambda}, \\
   y=-\frac{3}{\lambda}, \\
   \lambda^2=\frac{25}{36}
 \end{cases}$$
 
Получаем две точки: $(\frac{24}{5},-\frac{18}{5},\frac{5}{6})$ и $(-\frac{24}{5},\frac{18}{5},-\frac{5}{6})$
 
Найдем вторые производные:
### $$L''_{xx}=2\lambda$$
### $$L''_{yy}=2\lambda$$
### $$L''_{\lambda \lambda}=0$$
### $$L''_{xy}=L''_{yx}=0$$
### $$L''_{x\lambda}=L''_{\lambda x}=2x$$
### $$L''_{y\lambda}=L''_{\lambda y}=2y$$ 

матрица Гёссе:
### $$\begin{pmatrix}
L''_{\lambda \lambda} & L''_{\lambda x} & L''_{\lambda y}\\ 
L''_{x \lambda} & L''_{xx} & L''_{xy}\\
L''_{y \lambda} & L''_{yx} & L''_{yy}\\
\end{pmatrix}\Rightarrow
\begin{pmatrix}
0 & 2x & 2y\\ 
2x & 2\lambda & 0\\
2y & 0 & 2\lambda\\
\end{pmatrix}$$

### $$\Delta=\begin{vmatrix}
0 & 2x & 2y\\ 
2x & 2\lambda & 0\\
2y & 0 & 2\lambda\\
\end{vmatrix}=
\begin{vmatrix}
+ & - & +\\ 
- & + & -\\
+ & - & +\\
\end{vmatrix}=0\cdot
\begin{vmatrix}
2\lambda & 0\\
0 & 2\lambda\\
\end{vmatrix}-2x\cdot
\begin{vmatrix}
2x & 0\\
2y & 2\lambda\\
\end{vmatrix}+2y\cdot
\begin{vmatrix}
2x & 2\lambda\\
2y & 0\\
\end{vmatrix}=(-2x)\cdot 4x\lambda+2y \cdot(-4y\lambda)=-8\lambda(x^2+y^2)$$

По условию задачи $x^2+y^2=36$, тогда 
### $$\Delta=-8\lambda \cdot 36 = -288\lambda$$

Если $\lambda=\frac{5}{6}$, то $\Delta<0$, следовательно $(\frac{24}{5},-\frac{18}{5},\frac{5}{6})$ - точка минимума.

Если $\lambda=-\frac{5}{6}$, то $\Delta>0$, следовательно $(-\frac{24}{5},\frac{18}{5},-\frac{5}{6})$ - точка максимума.



__2.__ Исследовать на условный экстремум функцию

### $$U=2x^2+12xy+32y^2+15,$$

если

### $$x^2+16y^2=64$$

Решение:

функция Лагранжа:

### $$L(x,y,\lambda)=2x^2+12xy+32y^2+15 +\lambda \cdot (x^2+16y^2-64)$$

### $$\begin{cases}
   L'_{x}=4x+12y+\lambda \cdot2x=0, \\
   L'_{y}=12x+64y+\lambda \cdot32y=0, \\
   L'_{\lambda}=x^2+16y^2-64=0
 \end{cases}$$
 
### $$\begin{cases}
   \lambda=-\frac{2x+6y}{x}, \\
   \lambda=-\frac{3x+16y}{8y}, \\
   x^2+16y^2=64
 \end{cases}\Rightarrow 
 \begin{cases}
   \lambda=-\frac{2x+6y}{x}, \\
   16xy+48y^2=3x^2+16xy, \\
   x^2+16y^2=64
 \end{cases}
 \Rightarrow 
 \begin{cases}
   \lambda=-\frac{2x+6y}{x}, \\
   16y^2=x^2, \\
   x^2+x^2=64
 \end{cases}$$
 
Получаем четыре точки: $(4\sqrt2,\sqrt2,-\frac{7}{2})$, $(-4\sqrt2,-\sqrt2,-\frac{7}{2})$, $(-4\sqrt2,\sqrt2,-\frac{1}{2})$, $(4\sqrt2,-\sqrt2,-\frac{1}{2})$.
 
Найдем вторые производные:
### $$L''_{xx}=4+2\lambda\,\,\,\,\,\,\,\,L''_{yy}=64+32\lambda\,\,\,\,\,\,\,\,L''_{\lambda \lambda}=0$$

### $$L''_{xy}=L''_{yx}=12\,\,\,\,\,\,\,\,L''_{x\lambda}=L''_{\lambda x}=2x\,\,\,\,\,\,\,\,L''_{y\lambda}=L''_{\lambda y}=32y$$


матрица Гёссе:
### $$\begin{pmatrix}
L''_{\lambda \lambda} & L''_{\lambda x} & L''_{\lambda y}\\ 
L''_{x \lambda} & L''_{xx} & L''_{xy}\\
L''_{y \lambda} & L''_{yx} & L''_{yy}\\
\end{pmatrix}\Rightarrow
\begin{pmatrix}
0 & 2x & 32y\\ 
2x & 4+2\lambda & 12\\
32y & 12 & 64+32\lambda\\
\end{pmatrix}$$

### $$\Delta=\begin{vmatrix}
0 & 2x & 32y\\ 
2x & 4+2\lambda & 12\\
32y & 12 & 64+32\lambda\\
\end{vmatrix}=
\begin{vmatrix}
+ & - & +\\ 
- & + & -\\
+ & - & +\\
\end{vmatrix}=$$

### $$=-2x\cdot
\begin{vmatrix}
2x & 12\\
32y & 64+32\lambda\\
\end{vmatrix}+32y\cdot
\begin{vmatrix}
2x & 4+2\lambda\\
32y & 12\\
\end{vmatrix}=$$

### $$=(-2x)\cdot (128x+64x\lambda-384y)+32y \cdot(24x-128y-64y\lambda)=$$

### $$=-256x^2-128x^2\lambda+768xy+768xy-4096y^2-2048y^2\lambda=$$

### $$=-256(x^2+16y^2)-128\lambda(x^2+16y^2)+1536xy=$$

### $$=-256\cdot64-128\lambda\cdot64+1536xy=$$

### $$=-16384-8192\lambda+1536xy$$

Для точек $(4\sqrt2,\sqrt2,-\frac{7}{2})$ и $(-4\sqrt2,-\sqrt2,-\frac{7}{2})$ $\Delta>0$, т.е. это точки максимума.

Для точек $(-4\sqrt2,\sqrt2,-\frac{1}{2})$ и $(4\sqrt2,-\sqrt2,-\frac{1}{2})$ $\Delta<0$, т.е. это точки минимума.


__3.__ Численно найти хотя бы один действительный корень системы нелинейных уравнений:
### $$\begin{cases}
   x^2-y^2+3xy^3-2x^2y^2+2x-3y-5=0 \\
   3y^3-2x^2+2x^3y-5x^2y^2+5=0
 \end{cases}$$
 
 Решение:

import numpy as np
from scipy.optimize import fsolve, broyden2
import math

def equations(p):
    x, y = p
    return (x**2-y**2+3*x*y**3-2*x**2*y**2+2*x-3*y-5, 
            3*y**3-2*x**2+2*x**3*y-5*x**2*y**2+5)

# Численное решение нелинечной системы уравнений
(x, y), info, ier, mesg =  fsolve(equations, (10, 10), full_output=True)
print (x, y, ier)
