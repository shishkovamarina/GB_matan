__1.__ Исследовать на условный экстремум функцию

### $$U=3-8x+6y,$$

если

### $$x^2+y^2=36$$

Решение:
функция Лагранжа:

### $$L(x,y,\lambda)=3-8x+6y +\lambda \cdot (x^2+y^2-36)$$

### $$\begin{cases}
   L'_{x}=-8+\lambda \cdot2x=0, \\
   L'_{y}=6+\lambda \cdot2y=0, \\
   L'_{\lambda}=x^2+y^2-36=0
 \end{cases}$$
 
### $$\begin{cases}
   x=\frac{4}{\lambda}, \\
   y=-\frac{3}{\lambda}, \\
   \Bigr(\frac{4}{\lambda}\Bigl)^2+\Bigr(-\frac{3}{\lambda}\Bigl)^2=36
 \end{cases}\Rightarrow 
 \begin{cases}
   x=\frac{4}{\lambda}, \\
   y=-\frac{3}{\lambda}, \\
   \frac{25}{\lambda^2}=36
 \end{cases}
 \Rightarrow 
 \begin{cases}
   x=\frac{4}{\lambda}, \\
   y=-\frac{3}{\lambda}, \\
   \lambda^2=\frac{25}{36}
 \end{cases}$$
 
Получаем две точки: $(\frac{24}{5},-\frac{18}{5},\frac{5}{6})$ и $(-\frac{24}{5},\frac{18}{5},-\frac{5}{6})$
 
Найдем вторые производные:
### $$L''_{xx}=2\lambda$$
### $$L''_{yy}=2\lambda$$
### $$L''_{\lambda \lambda}=0$$
### $$L''_{xy}=L''_{yx}=0$$
### $$L''_{x\lambda}=L''_{\lambda x}=2x$$
### $$L''_{y\lambda}=L''_{\lambda y}=2y$$ 

матрица Гёссе:
### $$\begin{pmatrix}
L''_{\lambda \lambda} & L''_{\lambda x} & L''_{\lambda y}\\ 
L''_{x \lambda} & L''_{xx} & L''_{xy}\\
L''_{y \lambda} & L''_{yx} & L''_{yy}\\
\end{pmatrix}\Rightarrow
\begin{pmatrix}
0 & 2x & 2y\\ 
2x & 2\lambda & 0\\
2y & 0 & 2\lambda\\
\end{pmatrix}$$

### $$\Delta=\begin{vmatrix}
0 & 2x & 2y\\ 
2x & 2\lambda & 0\\
2y & 0 & 2\lambda\\
\end{vmatrix}=
\begin{vmatrix}
+ & - & +\\ 
- & + & -\\
+ & - & +\\
\end{vmatrix}=0\cdot
\begin{vmatrix}
2\lambda & 0\\
0 & 2\lambda\\
\end{vmatrix}-2x\cdot
\begin{vmatrix}
2x & 0\\
2y & 2\lambda\\
\end{vmatrix}+2y\cdot
\begin{vmatrix}
2x & 2\lambda\\
2y & 0\\
\end{vmatrix}=(-2x)\cdot 4x\lambda+2y \cdot(-4y\lambda)=-8\lambda(x^2+y^2)$$

По условию задачи $x^2+y^2=36$, тогда 
### $$\Delta=-8\lambda \cdot 36 = -288\lambda$$

Если $\lambda=\frac{5}{6}$, то $\Delta<0$, следовательно $(\frac{24}{5},-\frac{18}{5},\frac{5}{6})$ - точка минимума.

Если $\lambda=-\frac{5}{6}$, то $\Delta>0$, следовательно $(-\frac{24}{5},\frac{18}{5},-\frac{5}{6})$ - точка максимума.
