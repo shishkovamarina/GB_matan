{
 "cells": [
  {
   "cell_type": "markdown",
   "metadata": {},
   "source": [
    "__1.__ Вычислить неопределенный интеграл\n",
    "\n",
    "### $$\\int \\frac{2x+3}{(x-2)(x+5)}\\,dx$$\n"
   ]
  },
  {
   "cell_type": "markdown",
   "metadata": {},
   "source": [
    "Решение:\n",
    "\n",
    "Используем метод разложения на простейшие. Разложим функцию на простейшие слагаемые:\n",
    "\n",
    "\n",
    "### $$\\frac{2x+3}{(x-2)(x+5)}=\\frac{A}{x-2}+\\frac{B}{x+5}=\\frac{A(x+5)+B(x-2)}{(x-2)(x+5)}$$ \n",
    "\n",
    "Приравняем числители и учтем, что коэффициенты при одинаковых степенях x, стоящие слева и справа должны совпадать:\n",
    "### $$\\begin{cases}\n",
    "2x+3=A(x+5)+B(x-2) \\\\\n",
    "x:A+B=2 \\\\\n",
    "1:5A-2B=3 \\\\\n",
    "\\end{cases}\n",
    "\n",
    "Решая ее, находим:\n",
    "A = 1;B = 1;\n",
    "\n",
    "### $$\\frac{2x+3}{(x-2)(x+5)}=\\frac{1}{(x-2)}+\\frac{1}{(x+5)}$$ \n",
    "\n",
    "### $$\\int\\frac{1}{(x-2)}\\,dx=ln(x-2)$$\n",
    "### $$\\int\\frac{1}{(x+5)}\\,dx=ln(x+5)$$\n",
    "### $$\\int\\frac{2x+3}{(x-2)(x+5)}=ln(x-2)+ln(x+5)+C$$\n"
   ]
  },
  {
   "cell_type": "code",
   "execution_count": 5,
   "metadata": {},
   "outputs": [],
   "source": [
    "from sympy import *\n",
    "init_printing()"
   ]
  },
  {
   "cell_type": "code",
   "execution_count": 6,
   "metadata": {},
   "outputs": [
    {
     "data": {
      "image/png": "[encoded data removed]",
      "text/latex": [
       "$\\displaystyle \\frac{2 x + 3}{\\left(x - 2\\right) \\left(x + 5\\right)}$"
      ],
      "text/plain": [
       "    2⋅x + 3    \n",
       "───────────────\n",
       "(x - 2)⋅(x + 5)"
      ]
     },
     "execution_count": 6,
     "metadata": {},
     "output_type": "execute_result"
    }
   ],
   "source": [
    "x=Symbol('x')\n",
    "f=(2*x+3)/((x-2)*(x+5))\n",
    "f"
   ]
  },
  {
   "cell_type": "code",
   "execution_count": 4,
   "metadata": {},
   "outputs": [
    {
     "data": {
      "image/png": "[encoded data removed]",
      "text/latex": [
       "$\\displaystyle \\log{\\left(x^{2} + 3 x - 10 \\right)}$"
      ],
      "text/plain": [
       "   ⎛ 2           ⎞\n",
       "log⎝x  + 3⋅x - 10⎠"
      ]
     },
     "execution_count": 4,
     "metadata": {},
     "output_type": "execute_result"
    }
   ],
   "source": [
    "integrate(f,x)"
   ]
  },
  {
   "cell_type": "markdown",
   "metadata": {},
   "source": [
    "__2.__ Вычислить неопределенный интеграл\n",
    "\n",
    "### $$\\int e^{2x}\\cos 3x\\,dx$$\n",
    "\n",
    "Решение:\n",
    "\n",
    "интегрируем по частям:\n",
    "$$\\int e^{2x}\\cos 3x\\,dx=e^{2x}\\frac{cos3x}{2}+\\int 3e^{2x}\\frac{sin3x}{2}dx$$\n",
    "\n",
    "находим интеграл:\n",
    "$$\\int 3e^{2x}\\frac{sin3x}{2}dx=3e^{2x}\\frac{sin3x}{4}-\\int 9e^{2x}\\frac{cos3x}{2}$$\n",
    "\n",
    "$$\\int e^{2x}\\frac{cos3x}{2}=e^{2x}\\frac{cos3x}{2}+e^{2x}\\frac{sin3x}{4}-\\int 9e^{2x}\\frac{cos3x}{2}$$\n",
    "\n",
    "Поскольку это циклический интеграл, переносим полученное выражение интеграла в левую часть:\n",
    "$$\\int 13e^{2x}\\frac{cos3x}{4}=3e^{2x}\\frac{sin3x}{4}+e^{2x}\\frac{cos3x}{2}$$\n"
   ]
  },
  {
   "cell_type": "markdown",
   "metadata": {},
   "source": [
    "__3.__ Вычислить определенный интеграл\n",
    "\n",
    "### $$\\int\\limits_0^{\\ln2} xe^{-x}\\,dx$$\n",
    "\n",
    "пусть u=-x\n",
    "тогда du=-dx и подставим du:\n",
    "$$\\int udv=uv-\\int vdu$$\n",
    "пусть u(u)= u и пусть dv(u)=e^u\n",
    "затем du(u)=1\n",
    "чтобы найти v(u):\n",
    "интеграл от экспоненты это экспонента\n",
    "$$-xe^{-x}e^{-x}$$\n",
    "упростим\n",
    "$$-(x+1)e^{-x}+c$$"
   ]
  },
  {
   "cell_type": "markdown",
   "metadata": {},
   "source": [
    "__4.__ Вычислить несобственный интеграл\n",
    "\n",
    "### $$\\int\\limits_2^{+\\infty} \\frac{dx}{x^2+x-2}$$\n",
    "\n",
    "Решение:\n",
    "\n",
    "$$\\frac{log(2x-2)}{3}-\\frac{log(2x+4)}{3}+c$$"
   ]
  },
  {
   "cell_type": "code",
   "execution_count": null,
   "metadata": {},
   "outputs": [],
   "source": []
  }
 ],
 "metadata": {
  "kernelspec": {
   "display_name": "Python 3",
   "language": "python",
   "name": "python3"
  },
  "language_info": {
   "codemirror_mode": {
    "name": "ipython",
    "version": 3
   },
   "file_extension": ".py",
   "mimetype": "text/x-python",
   "name": "python",
   "nbconvert_exporter": "python",
   "pygments_lexer": "ipython3",
   "version": "3.8.5"
  }
 },
 "nbformat": 4,
 "nbformat_minor": 4
}
