{
 "cells": [
  {
   "cell_type": "markdown",
   "metadata": {},
   "source": [
    "__1.__ Найти производную функции:\n",
    "\n",
    "### $$y=\\frac{1}{x}+\\frac{2}{x^2}-\\frac{5}{x^3}+\\sqrt x -\\sqrt[3]x+\\frac{3}{\\sqrt x}$$\n",
    "\n",
    "Решение:\n",
    "\n",
    "### $$y=x^{-1}+2x^{-2}-5x^{-3}+x^{\\frac{1}{2}} -x^{\\frac{1}{3}}+3x^{-\\frac{1}{2}}$$\n",
    "\n",
    "Тогда:\n",
    "\n",
    "### $$y'=-x^{-2}-4x^{-3}+15x^{-4}+\\frac{1}{2}x^{-\\frac{1}{2}} -\\frac{1}{3}x^{-\\frac{2}{3}}-\\frac{3}{2}x^{-\\frac{3}{2}}$$\n",
    "\n",
    "\n",
    "__2.__ Найти производную функции:\n",
    "\n",
    "### $$y=x \\cdot \\sqrt {1+x^2}$$\n",
    "\n",
    "Решение:\n",
    "\n",
    "### $$y=x \\cdot (1+x^2)^{\\frac{1}{2}}$$\n",
    "\n",
    "Тогда:\n",
    "\n",
    "### $$y'=1 \\cdot (1+x^2)^{\\frac{1}{2}}+x \\cdot \\frac{1}{2}(1+x^2)^{-\\frac{1}{2}}\\cdot2x=\\sqrt {1+x^2}+\\frac{x^2}{\\sqrt {1+x^2}}$$\n",
    "\n",
    "__3.__ Найти производную функции:\n",
    "\n",
    "### $$y= \\frac{2x}{1-x^2}$$\n",
    "\n",
    "Решение:\n",
    "\n",
    "### $$y'= \\frac{2\\cdot(1-x^2)-2x\\cdot(-2x)}{(1-x^2)^2}=\\frac{2x^2+2}{(1-x^2)^2}$$\n",
    "\n",
    "__5.__ Найти производную функции:\n",
    "\n",
    "### $$y= \\ln(x+\\sqrt{x^2+1})$$\n",
    "\n",
    "Решение:\n",
    "\n",
    "### $$y'=\\frac{1}{x+\\sqrt{x^2+1}}\\cdot \\Bigr(1+\\frac{x}{\\sqrt{x^2+1}} \\Bigl)=\\frac{1}{x+\\sqrt{x^2+1}}\\cdot \\frac{x+\\sqrt{x^2+1}}{\\sqrt{x^2+1}}=\\frac{1}{\\sqrt{x^2+1}}$$\n",
    "\n",
    "__6.__ Найти производную функции:\n",
    "\n",
    "### $$y=x \\cdot \\ln(x+\\sqrt{x^2+1})-\\sqrt{x^2+1}$$\n",
    "\n",
    "Решение:\n",
    "\n",
    "### $$y'=1 \\cdot \\ln(x+\\sqrt{x^2+1})+x \\cdot \\frac{1}{\\sqrt{x^2+1}}-\\frac{x}{\\sqrt{x^2+1}}=\\ln(x+\\sqrt{x^2+1})$$"
   ]
  },
  {
   "cell_type": "code",
   "execution_count": null,
   "metadata": {},
   "outputs": [],
   "source": []
  }
 ],
 "metadata": {
  "kernelspec": {
   "display_name": "Python 3",
   "language": "python",
   "name": "python3"
  },
  "language_info": {
   "codemirror_mode": {
    "name": "ipython",
    "version": 3
   },
   "file_extension": ".py",
   "mimetype": "text/x-python",
   "name": "python",
   "nbconvert_exporter": "python",
   "pygments_lexer": "ipython3",
   "version": "3.8.5"
  }
 },
 "nbformat": 4,
 "nbformat_minor": 4
}
